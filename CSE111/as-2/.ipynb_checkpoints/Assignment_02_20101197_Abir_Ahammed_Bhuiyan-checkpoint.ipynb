{
 "cells": [
  {
   "cell_type": "code",
   "execution_count": 1,
   "id": "revised-server",
   "metadata": {},
   "outputs": [
    {
     "name": "stdout",
     "output_type": "stream",
     "text": [
      "0.5\n",
      "0\n",
      "0\n"
     ]
    }
   ],
   "source": [
    "#func_1\n",
    "\n",
    "def func(a, b):\n",
    "    if(a == 0 or b == 0):\n",
    "        return 0\n",
    "    else:\n",
    "        return a/b - int(a/b)\n",
    "\n",
    "print(func(5, 2))\n",
    "print(func(5, 0))\n",
    "print(func(0, 5))"
   ]
  },
  {
   "cell_type": "code",
   "execution_count": 2,
   "id": "useful-cooling",
   "metadata": {},
   "outputs": [
    {
     "name": "stdout",
     "output_type": "stream",
     "text": [
      "Score is 31.3. You are Obese\n",
      "Score is 20.8. You are Normal\n"
     ]
    }
   ],
   "source": [
    "#func_2\n",
    "\n",
    "def func_BMI(height, weight):\n",
    "    height = height/100\n",
    "    bmi =  weight/(height*height)\n",
    "\n",
    "    if(bmi<18.5):\n",
    "         print(\"Score is %.1f. You are Underweight\" %bmi)\n",
    "    elif(bmi>=18.5 and bmi<=24.9):\n",
    "         print(\"Score is %.1f. You are Normal\" %bmi)\n",
    "    elif(bmi>=25 and bmi<=30):\n",
    "         print(\"Score is %.1f. You are Overweight\" %bmi)\n",
    "    else:\n",
    "         print(\"Score is %.1f. You are Obese\" %bmi)\n",
    "\n",
    "\n",
    "func_BMI(175, 96)\n",
    "func_BMI(152, 48)"
   ]
  },
  {
   "cell_type": "code",
   "execution_count": 3,
   "id": "sonic-wages",
   "metadata": {},
   "outputs": [
    {
     "name": "stdout",
     "output_type": "stream",
     "text": [
      "20\n",
      "45\n"
     ]
    }
   ],
   "source": [
    "#func_3\n",
    "\n",
    "def func(min, max, div):\n",
    "\n",
    "    add = 0\n",
    "    for i in range(min, max):\n",
    "        if(i%div == 0):\n",
    "            add = add + i\n",
    "    return add\n",
    "\n",
    "\n",
    "print(func(0, 10, 2))\n",
    "print(func(3, 16, 3))"
   ]
  },
  {
   "cell_type": "code",
   "execution_count": 4,
   "id": "western-equality",
   "metadata": {},
   "outputs": [
    {
     "name": "stdout",
     "output_type": "stream",
     "text": [
      "243.6\n",
      "223.6\n"
     ]
    }
   ],
   "source": [
    "#func_4\n",
    "\n",
    "def func(burger_name, place = 'Mohakhali'):\n",
    "    if (place == 'Mohakhali'):\n",
    "        delivery_charge = 40\n",
    "    else:\n",
    "        delivery_charge = 60\n",
    "\n",
    "    if(burger_name == 'Beef Burger'):\n",
    "        meal_cost = 170\n",
    "    elif(burger_name == 'BBQ Chicken Cheese Burger'):\n",
    "        meal_cost = 250\n",
    "    elif(burger_name == 'Naga Drums'):\n",
    "        meal_cost = 200\n",
    "\n",
    "    return meal_cost + delivery_charge + (meal_cost * 0.08)\n",
    "\n",
    "\n",
    "print(func('Beef Burger', 'Dhanmondi'))\n",
    "print(func('Beef Burger'))"
   ]
  },
  {
   "cell_type": "code",
   "execution_count": 5,
   "id": "aggressive-karaoke",
   "metadata": {},
   "outputs": [
    {
     "name": "stdout",
     "output_type": "stream",
     "text": [
      "Changed: alice@sheba.xyz\n",
      "Unchanged: bob@sheba.xyz\n"
     ]
    }
   ],
   "source": [
    "#func_5\n",
    "\n",
    "def replace_domain(email, new_domain, old_domain=\"kaaj.com\"):\n",
    "    if(email.find(old_domain) == -1):\n",
    "        return \"Unchanged: \" + email\n",
    "    else:\n",
    "        email = email.split(\"@\")\n",
    "        email = email[0]\n",
    "        return \"Changed: \" + email+\"@\"+new_domain\n",
    "\n",
    "\n",
    "\n",
    "\n",
    "print(replace_domain('alice@kaaj.com', 'sheba.xyz', 'kaaj.com'))\n",
    "print(replace_domain('bob@sheba.xyz', 'sheba.xyz'))"
   ]
  },
  {
   "cell_type": "code",
   "execution_count": 6,
   "id": "soviet-spice",
   "metadata": {},
   "outputs": [
    {
     "name": "stdout",
     "output_type": "stream",
     "text": [
      "Vowels: e, e, o. Total number of vowels: 3\n",
      "No vowels in the name\n"
     ]
    }
   ],
   "source": [
    "#func_6\n",
    "\n",
    "def func(name):\n",
    "    vowels = ['a', 'e', 'i', 'o', 'u']\n",
    "    name = name.lower()\n",
    "    found = []\n",
    "\n",
    "    for char in name:\n",
    "        if(char in vowels):\n",
    "            found.append(char)\n",
    "\n",
    "    if(len(found)!=0):\n",
    "        output = \"Vowels: \"\n",
    "        for char in found:\n",
    "            output += char + ', '\n",
    "        return output[:-2]+\". Total number of vowels: \"+str(len(found))\n",
    "    else:\n",
    "        return \"No vowels in the name\"\n",
    "\n",
    "\n",
    "\n",
    "\n",
    "print(func(\"Steve Jobs\"))\n",
    "print(func(\"XYZ\"))"
   ]
  },
  {
   "cell_type": "code",
   "execution_count": 7,
   "id": "quality-preservation",
   "metadata": {},
   "outputs": [
    {
     "name": "stdout",
     "output_type": "stream",
     "text": [
      "Palindrom\n",
      "Not a palindrom\n",
      "Palindrom\n"
     ]
    }
   ],
   "source": [
    "#func_7\n",
    "\n",
    "def isPalindrom(string):\n",
    "    string = \"\".join(string.split())\n",
    "\n",
    "    for i in range(0, int(len(string)/2)):\n",
    "        if string[i] != string[len(string)-i-1]:\n",
    "            return \"Not a palindrom\"\n",
    "    return \"Palindrom\"\n",
    "\n",
    "\n",
    "print(isPalindrom('madam'))\n",
    "print(isPalindrom('hello'))\n",
    "print(isPalindrom('nurses run'))"
   ]
  },
  {
   "cell_type": "code",
   "execution_count": 8,
   "id": "cheap-morris",
   "metadata": {},
   "outputs": [
    {
     "name": "stdout",
     "output_type": "stream",
     "text": [
      "11 years, 10 months and 5 days\n",
      "10 years, 11 months and 20 days\n"
     ]
    }
   ],
   "source": [
    "#func_8\n",
    "\n",
    "def Converter(number_of_days):\n",
    "    year = int(number_of_days/365)\n",
    "\n",
    "    number_of_days = number_of_days - (365*year)\n",
    "\n",
    "    month = int(number_of_days/30)\n",
    "\n",
    "    days = number_of_days - (month*30)\n",
    "\n",
    "    return str(year) + \" years, \" + str(month) + \" months and \" + str(days) + \" days\"\n",
    "\n",
    "\n",
    "print(Converter(4320))\n",
    "print(Converter(4000))"
   ]
  },
  {
   "cell_type": "code",
   "execution_count": 9,
   "id": "following-level",
   "metadata": {},
   "outputs": [
    {
     "name": "stdout",
     "output_type": "stream",
     "text": [
      "My favourite animal is a dog. A dog has sharp teeth so that it can eat flesh very easily. Do you know my pet dog's name? I love my pet very much. \n"
     ]
    }
   ],
   "source": [
    "#func_9\n",
    "\n",
    "def punct(string):\n",
    "\n",
    "    string = string.capitalize()\n",
    "\n",
    "    string = string.split(\" \")\n",
    "\n",
    "    formatted = \"\"\n",
    "\n",
    "    fullstop_mode = False\n",
    "    questionmark_mode = False\n",
    "    exclamationmark_mode = False\n",
    "\n",
    "\n",
    "    for word in string:\n",
    "\n",
    "        if(word == 'i' or (word[0] == 'i' and word[1] in ['?', '!', '.', \"'\"])):\n",
    "            formatted = formatted + word.capitalize() + \" \"\n",
    "            fullstop_mode = False\n",
    "            questionmark_mode = False\n",
    "            exclamationmark_mode = False\n",
    "\n",
    "        elif(fullstop_mode == True):\n",
    "            formatted = formatted + word.capitalize() + \" \"\n",
    "            fullstop_mode = False\n",
    "\n",
    "        elif(questionmark_mode == True):\n",
    "            formatted = formatted + word.capitalize() + \" \"\n",
    "            questionmark_mode = False\n",
    "        elif(exclamationmark_mode == True):\n",
    "            formatted = formatted + word.capitalize() + \" \"\n",
    "            exclamationmark_mode = False\n",
    "        elif(word[-1] == '.'):\n",
    "            formatted = formatted + word + \" \"\n",
    "            fullstop_mode = True\n",
    "\n",
    "        elif(word[-1] == '?'):\n",
    "            formatted = formatted + word + \" \"\n",
    "            questionmark_mode = True\n",
    "\n",
    "        elif(word[-1] == '!'):\n",
    "            formatted = formatted + word + \" \"\n",
    "            exclamationmark_mode = True\n",
    "\n",
    "        else:\n",
    "            formatted = formatted + word + \" \"\n",
    "\n",
    "    return formatted\n",
    "\n",
    "\n",
    "\n",
    "print(punct(\"my favourite animal is a dog. a dog has sharp teeth so that it can eat flesh very easily. do you know my pet dog's name? i love my pet very much.\"))"
   ]
  },
  {
   "cell_type": "code",
   "execution_count": null,
   "id": "vertical-bunch",
   "metadata": {},
   "outputs": [],
   "source": []
  }
 ],
 "metadata": {
  "kernelspec": {
   "display_name": "Python 3 (ipykernel)",
   "language": "python",
   "name": "python3"
  },
  "language_info": {
   "codemirror_mode": {
    "name": "ipython",
    "version": 3
   },
   "file_extension": ".py",
   "mimetype": "text/x-python",
   "name": "python",
   "nbconvert_exporter": "python",
   "pygments_lexer": "ipython3",
   "version": "3.7.3"
  }
 },
 "nbformat": 4,
 "nbformat_minor": 5
}

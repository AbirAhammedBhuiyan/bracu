{
 "cells": [
  {
   "cell_type": "code",
   "execution_count": 1,
   "id": "patent-drunk",
   "metadata": {},
   "outputs": [
    {
     "name": "stdin",
     "output_type": "stream",
     "text": [
      "Enter a string:  HOusE\n"
     ]
    },
    {
     "name": "stdout",
     "output_type": "stream",
     "text": [
      "HOUSE\n"
     ]
    }
   ],
   "source": [
    "#String_1\n",
    "\n",
    "line = input(\"Enter a string: \")\n",
    "\n",
    "upper_cnt = 0\n",
    "lower_cnt = 0\n",
    "\n",
    "for char in line:\n",
    "    if(char.isupper()):\n",
    "        upper_cnt += 1\n",
    "    else:\n",
    "        lower_cnt += 1\n",
    "\n",
    "\n",
    "if(upper_cnt > lower_cnt):\n",
    "    print(line.upper())\n",
    "else:\n",
    "    print(line.lower())\n"
   ]
  },
  {
   "cell_type": "code",
   "execution_count": 2,
   "id": "relative-academy",
   "metadata": {},
   "outputs": [
    {
     "name": "stdin",
     "output_type": "stream",
     "text": [
      "Enter a string:  jhg231j213\n"
     ]
    },
    {
     "name": "stdout",
     "output_type": "stream",
     "text": [
      "MIXED\n"
     ]
    }
   ],
   "source": [
    "#String_2\n",
    "\n",
    "line = input(\"Enter a string: \")\n",
    "\n",
    "flg_alpha = False\n",
    "flg_digit = False\n",
    "\n",
    "\n",
    "\n",
    "\n",
    "for char in line:\n",
    "    if(char.isdigit()):\n",
    "        flg_digit = True\n",
    "    if(char.isalpha()):\n",
    "        flg_alpha = True\n",
    "\n",
    "\n",
    "\n",
    "\n",
    "\n",
    "if(flg_alpha == True and flg_digit == True):\n",
    "    print(\"MIXED\")\n",
    "elif(flg_alpha):\n",
    "    print(\"WORD\")\n",
    "elif(flg_digit):\n",
    "    print(\"NUMBER\")\n",
    "\n"
   ]
  },
  {
   "cell_type": "code",
   "execution_count": 3,
   "id": "golden-proxy",
   "metadata": {},
   "outputs": [
    {
     "name": "stdin",
     "output_type": "stream",
     "text": [
      "Enter a string:  coDIng\n"
     ]
    },
    {
     "name": "stdout",
     "output_type": "stream",
     "text": [
      "BLANK\n"
     ]
    }
   ],
   "source": [
    "#String_3\n",
    "\n",
    "line = input(\"Enter a string: \")\n",
    "new_line = \"\"\n",
    "\n",
    "flg = False\n",
    "\n",
    "\n",
    "for char in line:\n",
    "    if(char.isupper()):\n",
    "        if(flg == True):\n",
    "            flg = False\n",
    "        else:\n",
    "            flg = True\n",
    "    else:\n",
    "        if(flg == True):\n",
    "            new_line += char\n",
    "\n",
    "if(len(new_line) == 0):\n",
    "    print(\"BLANK\")\n",
    "else:\n",
    "    print(new_line)\n"
   ]
  },
  {
   "cell_type": "code",
   "execution_count": 4,
   "id": "atomic-private",
   "metadata": {},
   "outputs": [
    {
     "name": "stdin",
     "output_type": "stream",
     "text": [
      " The book is not too good!\n"
     ]
    },
    {
     "name": "stdout",
     "output_type": "stream",
     "text": [
      "The book is not excellent!\n"
     ]
    }
   ],
   "source": [
    "#String_4\n",
    "\n",
    "line = input()\n",
    "\n",
    "line = line.replace(\"too good\", \"excellent\")\n",
    "\n",
    "print(line)\n"
   ]
  },
  {
   "cell_type": "code",
   "execution_count": 5,
   "id": "greater-wells",
   "metadata": {},
   "outputs": [
    {
     "name": "stdin",
     "output_type": "stream",
     "text": [
      "Enter String:  harry, hermione\n"
     ]
    },
    {
     "name": "stdout",
     "output_type": "stream",
     "text": [
      "hrrhr\n"
     ]
    }
   ],
   "source": [
    "#String_5\n",
    "\n",
    "line = input(\"Enter String: \")\n",
    "\n",
    "line = line.split(',')\n",
    "\n",
    "new_line = \"\"\n",
    "\n",
    "for char in line[0]:\n",
    "    if char in line[1]:\n",
    "        new_line += char\n",
    "\n",
    "\n",
    "for char in line[1]:\n",
    "    if char in new_line:\n",
    "        new_line += char\n",
    "\n",
    "\n",
    "if(len(new_line)== 0):\n",
    "    print(\"Nothing in common.\")\n",
    "else:\n",
    "    print(new_line)\n"
   ]
  },
  {
   "cell_type": "code",
   "execution_count": 6,
   "id": "searching-pencil",
   "metadata": {},
   "outputs": [
    {
     "name": "stdin",
     "output_type": "stream",
     "text": [
      "Enter your new email:  ohMyBR@CU\n"
     ]
    },
    {
     "name": "stdout",
     "output_type": "stream",
     "text": [
      "Digit missing\n"
     ]
    }
   ],
   "source": [
    "#String_6\n",
    "\n",
    "line = input(\"Enter your new email: \")\n",
    "\n",
    "new_line = \"\"\n",
    "\n",
    "flg_lower = False\n",
    "flg_upper = False\n",
    "flg_digit = False\n",
    "flg_spl = False\n",
    "\n",
    "for char in line:\n",
    "\n",
    "    if(char.islower()):\n",
    "        flg_lower = True\n",
    "    elif(char.isupper()):\n",
    "        flg_upper = True\n",
    "    elif(char.isdigit()):\n",
    "        flg_digit = True\n",
    "    elif(char in ['_', '$', '#', '@']):\n",
    "        flg_spl = True\n",
    "\n",
    "\n",
    "if(flg_lower == False):\n",
    "    new_line += \"Lowercase character missing, \"\n",
    "if(flg_upper == False):\n",
    "    new_line += \"Uppercase character missing, \"\n",
    "if(flg_digit == False):\n",
    "    new_line += \"Digit missing, \"\n",
    "if(flg_spl == False):\n",
    "    new_line += \"Special  character missing, \"\n",
    "\n",
    "\n",
    "if(flg_lower == True and flg_upper == True and flg_digit == True and flg_spl == True):\n",
    "    print(\"OK\")\n",
    "else:\n",
    "    print(new_line[:-2])\n"
   ]
  },
  {
   "cell_type": "code",
   "execution_count": 7,
   "id": "lasting-future",
   "metadata": {},
   "outputs": [
    {
     "name": "stdin",
     "output_type": "stream",
     "text": [
      " 10\n",
      " 20\n",
      " 20\n",
      " 30\n",
      " 10\n",
      " 50\n",
      " 90\n",
      " STOP\n"
     ]
    },
    {
     "name": "stdout",
     "output_type": "stream",
     "text": [
      "10-2 times\n",
      "20-2 times\n",
      "30-1 times\n",
      "50-1 times\n",
      "90-1 times\n"
     ]
    }
   ],
   "source": [
    "#List_1\n",
    "\n",
    "sil = []\n",
    "\n",
    "\n",
    "while True:\n",
    "    var = input()\n",
    "    if(var==\"STOP\"):\n",
    "        break;\n",
    "    else:\n",
    "        sil.append(var)\n",
    "\n",
    "\n",
    "new_silt = []\n",
    "\n",
    "for i in sil:\n",
    "    if i not in new_silt:\n",
    "        new_silt.append(i)\n",
    "\n",
    "\n",
    "for value in new_silt:\n",
    "    count=0\n",
    "    for i in sil:\n",
    "        if value==i:\n",
    "            count+=1\n",
    "\n",
    "    print(str(value)+\"-\"+str(count)+\" times\")\n",
    "\n"
   ]
  },
  {
   "cell_type": "code",
   "execution_count": 8,
   "id": "arabic-connecticut",
   "metadata": {},
   "outputs": [
    {
     "name": "stdin",
     "output_type": "stream",
     "text": [
      " 4\n",
      " 1 2 3\n",
      " 4 5 6\n",
      " 10 11 12\n",
      " 7 8 9\n"
     ]
    },
    {
     "name": "stdout",
     "output_type": "stream",
     "text": [
      "33\n",
      "[10, 11, 12]\n"
     ]
    }
   ],
   "source": [
    "#List_2\n",
    "\n",
    "cnt = int(input())\n",
    "\n",
    "\n",
    "def adder(sil):\n",
    "    add = 0\n",
    "    for elem in sil:\n",
    "        add+=elem\n",
    "\n",
    "    return add\n",
    "\n",
    "max_sil = []\n",
    "\n",
    "\n",
    "for i in range(4):\n",
    "    sil = [int(i)for i in input().split(\" \")]\n",
    "\n",
    "    if(adder(sil)>adder(max_sil)):\n",
    "        max_sil = sil\n",
    "\n",
    "\n",
    "\n",
    "\n",
    "print(adder(max_sil))\n",
    "print(max_sil)"
   ]
  },
  {
   "cell_type": "code",
   "execution_count": 9,
   "id": "universal-assurance",
   "metadata": {},
   "outputs": [
    {
     "name": "stdin",
     "output_type": "stream",
     "text": [
      " 2 3 6\n",
      " 3 4 5\n"
     ]
    },
    {
     "name": "stdout",
     "output_type": "stream",
     "text": [
      "[6, 8, 10, 9, 12, 15, 18, 24, 30]\n"
     ]
    }
   ],
   "source": [
    "#List_3\n",
    "\n",
    "sil1 = [int(i)for i in input().split(\" \")]\n",
    "sil2 = [int(i)for i in input().split(\" \")]\n",
    "\n",
    "\n",
    "mul_sil = []\n",
    "\n",
    "\n",
    "for elem1 in sil1:\n",
    "    for elem2 in sil2:\n",
    "        mul_sil.append(elem1*elem2)\n",
    "\n",
    "\n",
    "print(mul_sil)"
   ]
  },
  {
   "cell_type": "code",
   "execution_count": 10,
   "id": "rural-chest",
   "metadata": {},
   "outputs": [
    {
     "name": "stdin",
     "output_type": "stream",
     "text": [
      " 1 4 2 3\n"
     ]
    },
    {
     "name": "stdout",
     "output_type": "stream",
     "text": [
      "UB Jumper\n"
     ]
    },
    {
     "name": "stdin",
     "output_type": "stream",
     "text": [
      " 2 1 4 6 10\n"
     ]
    },
    {
     "name": "stdout",
     "output_type": "stream",
     "text": [
      "UB Jumper\n"
     ]
    },
    {
     "name": "stdin",
     "output_type": "stream",
     "text": [
      " 1 4 2 -1 6\n"
     ]
    },
    {
     "name": "stdout",
     "output_type": "stream",
     "text": [
      "Not UB Jumper\n"
     ]
    },
    {
     "name": "stdin",
     "output_type": "stream",
     "text": [
      " STOP\n"
     ]
    }
   ],
   "source": [
    "#List_4\n",
    "\n",
    "def exact_sil(sil):\n",
    "    exac = []\n",
    "    for i in range(len(sil)-1):\n",
    "        exac.append(i+1)\n",
    "\n",
    "    return exac\n",
    "\n",
    "def absolute_diff_sil(sil):\n",
    "    diff_sil = []\n",
    "\n",
    "    for i in range(len(sil)-1):\n",
    "        diff_sil.append(abs(sil[i]-sil[i+1]))\n",
    "\n",
    "    return diff_sil\n",
    "\n",
    "\n",
    "\n",
    "\n",
    "\n",
    "while True:\n",
    "    line = input()\n",
    "    if(line==\"STOP\"):\n",
    "        break\n",
    "    else:\n",
    "        sil = [int(i) for i in line.split(\" \")]\n",
    "        diff_sil = absolute_diff_sil(sil)\n",
    "        exac_sil = exact_sil(sil)\n",
    "        if(set(exac_sil)==set(diff_sil)):\n",
    "            print(\"UB Jumper\")\n",
    "        else:\n",
    "            print(\"Not UB Jumper\")\n",
    "\n"
   ]
  },
  {
   "cell_type": "code",
   "execution_count": 11,
   "id": "adult-lodging",
   "metadata": {},
   "outputs": [
    {
     "name": "stdin",
     "output_type": "stream",
     "text": [
      " Bracu1234\n"
     ]
    },
    {
     "name": "stdout",
     "output_type": "stream",
     "text": [
      "acruB1324\n"
     ]
    }
   ],
   "source": [
    "#List_5\n",
    "\n",
    "line = input()\n",
    "\n",
    "\n",
    "def joiner(string, sil):\n",
    "    for char in sil:\n",
    "        string += char\n",
    "\n",
    "    return string\n",
    "\n",
    "\n",
    "def odd_even_filler(num_sil):\n",
    "    for char in num_sil:\n",
    "        if(int(char)%2 == 0):\n",
    "            num_even_sil.append(char)\n",
    "        else:\n",
    "            num_odd_sil.append(char)\n",
    "\n",
    "\n",
    "\n",
    "upper_sil = []\n",
    "lower_sil = []\n",
    "num_sil = []\n",
    "num_odd_sil = []\n",
    "num_even_sil = []\n",
    "\n",
    "for char in line:\n",
    "    if(char>='a' and char<='z'):\n",
    "        lower_sil.append(char)\n",
    "    if(char>='A' and char<='Z'):\n",
    "        upper_sil.append(char)\n",
    "    if(char>='0' and char<='9'):\n",
    "        num_sil.append(char)\n",
    "\n",
    "\n",
    "odd_even_filler(num_sil)\n",
    "\n",
    "upper_sil.sort()\n",
    "lower_sil.sort()\n",
    "num_even_sil.sort()\n",
    "num_odd_sil.sort()\n",
    "\n",
    "\n",
    "\n",
    "line = \"\"\n",
    "\n",
    "line = joiner(line, lower_sil)\n",
    "line = joiner(line, upper_sil)\n",
    "line = joiner(line, num_odd_sil)\n",
    "line = joiner(line, num_even_sil)\n",
    "\n",
    "\n",
    "print(line)"
   ]
  },
  {
   "cell_type": "code",
   "execution_count": 13,
   "id": "secure-indianapolis",
   "metadata": {},
   "outputs": [
    {
     "name": "stdin",
     "output_type": "stream",
     "text": [
      " 5 2\n",
      " 0 4 5 1 0\n"
     ]
    },
    {
     "name": "stdout",
     "output_type": "stream",
     "text": [
      "1\n"
     ]
    }
   ],
   "source": [
    "#List_6\n",
    "\n",
    "n, k = map(int, input().split(' '))\n",
    "\n",
    "\n",
    "sil = [int(i)for i in input().split(' ')]\n",
    "\n",
    "diff_sil = []\n",
    "\n",
    "for elem in sil:\n",
    "    if(5-elem >= k):\n",
    "        diff_sil.append(5-elem)\n",
    "\n",
    "\n",
    "\n",
    "print(int(len(diff_sil)/3))"
   ]
  },
  {
   "cell_type": "code",
   "execution_count": 14,
   "id": "level-entity",
   "metadata": {},
   "outputs": [
    {
     "name": "stdin",
     "output_type": "stream",
     "text": [
      " a: 100, b: 100, c: 200, d: 300\n",
      " a: 300, b: 200, d: 400, e: 200\n"
     ]
    },
    {
     "name": "stdout",
     "output_type": "stream",
     "text": [
      "{'a': 400, 'b': 300, 'c': 200, 'd': 700, 'e': 200}\n",
      "Values: (200, 300, 400, 700)\n"
     ]
    }
   ],
   "source": [
    "#dictionary_&_tuple_1\n",
    "\n",
    "def dict_maker(string):\n",
    "    sil = string.split(\",\")\n",
    "\n",
    "    dic = dict()\n",
    "\n",
    "    for elem in sil:\n",
    "        lis = elem.split(\":\")\n",
    "        dic[lis[0].lstrip()] = int(lis[1])\n",
    "\n",
    "\n",
    "    return dic\n",
    "\n",
    "\n",
    "dic_1 = dict_maker(input())\n",
    "dic_2 = dict_maker(input())\n",
    "\n",
    "dic_3 = dict()\n",
    "\n",
    "\n",
    "dic_3 = {**dic_1, **dic_2}\n",
    "\n",
    "for key, value in dic_3.items():\n",
    "    if key in dic_1 and key in dic_2:\n",
    "        dic_3[key] = dic_1[key] + dic_2[key]\n",
    "\n",
    "\n",
    "dic_tup = ()\n",
    "\n",
    "for value in dic_3.values():\n",
    "    if value not in dic_tup:\n",
    "        dic_tup+=(value,)\n",
    "\n",
    "print(dic_3)\n",
    "print(\"Values:\", tuple(sorted(dic_tup)))"
   ]
  },
  {
   "cell_type": "code",
   "execution_count": 16,
   "id": "persistent-sucking",
   "metadata": {},
   "outputs": [
    {
     "name": "stdin",
     "output_type": "stream",
     "text": [
      " 10\n",
      " 20\n",
      " 20\n",
      " 30\n",
      " 10\n",
      " 50\n",
      " 90\n",
      " STOP\n"
     ]
    },
    {
     "name": "stdout",
     "output_type": "stream",
     "text": [
      "10 - 2 times\n",
      "20 - 2 times\n",
      "30 - 1 times\n",
      "50 - 1 times\n",
      "90 - 1 times\n"
     ]
    }
   ],
   "source": [
    "#dictionary_&_tuple_2\n",
    "\n",
    "dic = dict()\n",
    "\n",
    "while True:\n",
    "    n = input()\n",
    "\n",
    "    if(n == \"STOP\"):\n",
    "        break\n",
    "    else:\n",
    "        if(int(n) in dic):\n",
    "            dic[int(n)] += 1\n",
    "        else:\n",
    "            dic[int(n)] = 1\n",
    "\n",
    "\n",
    "for key, value in dic.items():\n",
    "    print(key, \"-\", value, \"times\")\n"
   ]
  },
  {
   "cell_type": "code",
   "execution_count": 17,
   "id": "understood-constraint",
   "metadata": {},
   "outputs": [
    {
     "name": "stdin",
     "output_type": "stream",
     "text": [
      " key1: value1, key2: value2, key3: value1\n"
     ]
    },
    {
     "name": "stdout",
     "output_type": "stream",
     "text": [
      "{'value1': ['key1', 'key3'], 'value2': ['key2']}\n"
     ]
    }
   ],
   "source": [
    "#dictionary_&_tuple_3\n",
    "\n",
    "def dict_maker(string):\n",
    "    sil = string.split(\",\")\n",
    "\n",
    "    dic = dict()\n",
    "\n",
    "    for elem in sil:\n",
    "        lis = elem.split(\":\")\n",
    "        dic[lis[0].lstrip()] = lis[1].lstrip()\n",
    "\n",
    "\n",
    "    return dic\n",
    "\n",
    "\n",
    "\n",
    "dic_1 = dict_maker(input())\n",
    "\n",
    "dic_2 = dict()\n",
    "\n",
    "for key, value in dic_1.items():\n",
    "    if(value not in dic_2):\n",
    "        dic_2[value] =  []\n",
    "        dic_2[value].append(key)\n",
    "    else:\n",
    "        dic_2[value].append(key)\n",
    "\n",
    "\n",
    "print(dic_2)"
   ]
  },
  {
   "cell_type": "code",
   "execution_count": 18,
   "id": "assigned-tackle",
   "metadata": {},
   "outputs": [
    {
     "name": "stdin",
     "output_type": "stream",
     "text": [
      " evil\n",
      " live\n"
     ]
    },
    {
     "name": "stdout",
     "output_type": "stream",
     "text": [
      "Those strings are anagrams.\n"
     ]
    }
   ],
   "source": [
    "#dictionary_&_tuple_4\n",
    "\n",
    "line1 = input()\n",
    "line2 = input()\n",
    "\n",
    "\n",
    "def to_dic(string):\n",
    "    dic = dict()\n",
    "    for char in string:\n",
    "        if(char in dic):\n",
    "            dic[char]+=1\n",
    "        else:\n",
    "            dic[char] = 1\n",
    "\n",
    "    return dic\n",
    "\n",
    "line1_dic = to_dic(line1)\n",
    "line2_dic = to_dic(line2)\n",
    "\n",
    "\n",
    "flg = False\n",
    "\n",
    "for key, value in line1_dic.items():\n",
    "    if(key in line2_dic and line1_dic[key]==line2_dic[key]):\n",
    "        pass\n",
    "    else:\n",
    "        flg = True\n",
    "\n",
    "\n",
    "for key, value in line2_dic.items():\n",
    "    if(key in line1_dic and line2_dic[key]==line1_dic[key]):\n",
    "        pass\n",
    "    else:\n",
    "        flg = True\n",
    "\n",
    "\n",
    "if(flg == True):\n",
    "    print(\"Those strings are not anagrams.\")\n",
    "else:\n",
    "    print(\"Those strings are anagrams.\")\n",
    "\n",
    "\n",
    "#try using full and llufer\n"
   ]
  },
  {
   "cell_type": "code",
   "execution_count": 19,
   "id": "rubber-radar",
   "metadata": {},
   "outputs": [
    {
     "name": "stdin",
     "output_type": "stream",
     "text": [
      " Hello, World!\n"
     ]
    },
    {
     "name": "stdout",
     "output_type": "stream",
     "text": [
      "4433555555666110966677755531111\n"
     ]
    }
   ],
   "source": [
    "#dictionary_&_tuple_5\n",
    "\n",
    "dic = { 1: ['.', ',', '?', '!', ':'],\n",
    "        2: ['A', 'B', 'C'],\n",
    "        3: ['D', 'E', 'F'],\n",
    "        4: ['G', 'H', 'I'],\n",
    "        5: ['J', 'K', 'L'],\n",
    "        6: ['M', 'N', 'O'],\n",
    "        7: ['P', 'Q', 'R', 'S'],\n",
    "        8: ['T', 'U', 'V'],\n",
    "        9: ['W', 'X', 'Y', 'Z'],\n",
    "        0: [\" \"] }\n",
    "\n",
    "\n",
    "line = input()\n",
    "line = line.upper()\n",
    "\n",
    "new_line = \"\"\n",
    "\n",
    "\n",
    "\n",
    "for char in line:\n",
    "    for key, value in dic.items():\n",
    "        if char in dic[key]:\n",
    "            for i in range(dic[key].index(char)+1):\n",
    "                new_line+=str(key)\n",
    "\n",
    "\n",
    "\n",
    "print(new_line)\n",
    "\n"
   ]
  },
  {
   "cell_type": "code",
   "execution_count": null,
   "id": "electoral-place",
   "metadata": {},
   "outputs": [],
   "source": []
  }
 ],
 "metadata": {
  "kernelspec": {
   "display_name": "Python 3 (ipykernel)",
   "language": "python",
   "name": "python3"
  },
  "language_info": {
   "codemirror_mode": {
    "name": "ipython",
    "version": 3
   },
   "file_extension": ".py",
   "mimetype": "text/x-python",
   "name": "python",
   "nbconvert_exporter": "python",
   "pygments_lexer": "ipython3",
   "version": "3.7.3"
  }
 },
 "nbformat": 4,
 "nbformat_minor": 5
}
